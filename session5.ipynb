{
 "cells": [
  {
   "cell_type": "markdown",
   "id": "6193a826-3236-45c4-a952-be214257f8c2",
   "metadata": {},
   "source": [
    "#### Data Structures  \n",
    "- it is predifed structure where multiple values are stored in sinle variable"
   ]
  },
  {
   "cell_type": "code",
   "execution_count": 2,
   "id": "ac7482a2-04aa-4441-8d3f-5039ec09a62f",
   "metadata": {},
   "outputs": [
    {
     "ename": "SyntaxError",
     "evalue": "invalid syntax (3157978121.py, line 2)",
     "output_type": "error",
     "traceback": [
      "\u001b[1;36m  Cell \u001b[1;32mIn[2], line 2\u001b[1;36m\u001b[0m\n\u001b[1;33m    - list is one of the data structure\u001b[0m\n\u001b[1;37m                  ^\u001b[0m\n\u001b[1;31mSyntaxError\u001b[0m\u001b[1;31m:\u001b[0m invalid syntax\n"
     ]
    }
   ],
   "source": [
    "# List \n",
    "- list is one of the data structure\n",
    "- list is ordered  and indexed collection of data\n",
    "- list can contain heterogenous elements\n",
    "- list is mutable \n",
    "- list is iterable"
   ]
  },
  {
   "cell_type": "code",
   "execution_count": 39,
   "id": "b390cad0-1b30-4f27-a452-5e96ee0a2b61",
   "metadata": {},
   "outputs": [
    {
     "data": {
      "text/plain": [
       "list"
      ]
     },
     "execution_count": 39,
     "metadata": {},
     "output_type": "execute_result"
    }
   ],
   "source": [
    "l1 = []   # empty list\n",
    "type(l1)"
   ]
  },
  {
   "cell_type": "code",
   "execution_count": 41,
   "id": "b7d107f7-25bb-4bc6-b286-45e15613a82a",
   "metadata": {},
   "outputs": [
    {
     "name": "stdout",
     "output_type": "stream",
     "text": [
      "[12, 34, 56, 78]\n"
     ]
    },
    {
     "data": {
      "text/plain": [
       "list"
      ]
     },
     "execution_count": 41,
     "metadata": {},
     "output_type": "execute_result"
    }
   ],
   "source": [
    "l2 = [12,34,56,78]    # list of integers\n",
    "\n",
    "print(l2)\n",
    "(type(l2))"
   ]
  },
  {
   "cell_type": "code",
   "execution_count": 43,
   "id": "442c2eeb-c1ef-43ab-b6dc-71b1a97119ca",
   "metadata": {},
   "outputs": [
    {
     "data": {
      "text/plain": [
       "[12.34, 76.9, 66.09, -46.798, -90.45, 0.0]"
      ]
     },
     "execution_count": 43,
     "metadata": {},
     "output_type": "execute_result"
    }
   ],
   "source": [
    "l3 = [12.34 ,76.90, 66.09 , -46.798, -90.45 ,0.0]  # list of floats\n",
    "l3"
   ]
  },
  {
   "cell_type": "code",
   "execution_count": 45,
   "id": "69ac8a39-fac3-4631-961a-2a0676cbf51c",
   "metadata": {},
   "outputs": [
    {
     "data": {
      "text/plain": [
       "[True, False]"
      ]
     },
     "execution_count": 45,
     "metadata": {},
     "output_type": "execute_result"
    }
   ],
   "source": [
    "l4 = [True , False] # boolean\n",
    "l4"
   ]
  },
  {
   "cell_type": "code",
   "execution_count": 47,
   "id": "8607f37c-a92d-44f5-9aa1-1d045b524664",
   "metadata": {},
   "outputs": [
    {
     "data": {
      "text/plain": [
       "['Data', 'Raman', 'Seeta']"
      ]
     },
     "execution_count": 47,
     "metadata": {},
     "output_type": "execute_result"
    }
   ],
   "source": [
    "l5 = ['Data' , 'Raman' , 'Seeta']  # strings\n",
    "l5"
   ]
  },
  {
   "cell_type": "code",
   "execution_count": 49,
   "id": "45ab4bd1-d982-4d74-b264-65007c43fddc",
   "metadata": {},
   "outputs": [
    {
     "data": {
      "text/plain": [
       "[12, 23.45, True, 'Raman']"
      ]
     },
     "execution_count": 49,
     "metadata": {},
     "output_type": "execute_result"
    }
   ],
   "source": [
    "l6 = [12,23.45 , True , 'Raman'] # heterogenous data\n",
    "l6"
   ]
  },
  {
   "cell_type": "code",
   "execution_count": 51,
   "id": "80fe2024-dc7a-47eb-a0a1-282684c803f1",
   "metadata": {},
   "outputs": [],
   "source": [
    "l7 = [23,45 ,['Rishubh' , 'Sunita' , True] , 89.0]  # nested list"
   ]
  },
  {
   "cell_type": "code",
   "execution_count": 53,
   "id": "4d03adcb-e4c0-428e-8e60-aa64c88b98b8",
   "metadata": {},
   "outputs": [
    {
     "data": {
      "text/plain": [
       "[23, 45, ['Rishubh', 'Sunita', True], 89.0]"
      ]
     },
     "execution_count": 53,
     "metadata": {},
     "output_type": "execute_result"
    }
   ],
   "source": [
    "l7"
   ]
  },
  {
   "cell_type": "code",
   "execution_count": 55,
   "id": "00de226f-2e51-4b48-a01a-17849d7c67a6",
   "metadata": {},
   "outputs": [
    {
     "ename": "SyntaxError",
     "evalue": "invalid syntax (3758084682.py, line 2)",
     "output_type": "error",
     "traceback": [
      "\u001b[1;36m  Cell \u001b[1;32mIn[55], line 2\u001b[1;36m\u001b[0m\n\u001b[1;33m    - positive index -> 0 -> from left side\u001b[0m\n\u001b[1;37m               ^\u001b[0m\n\u001b[1;31mSyntaxError\u001b[0m\u001b[1;31m:\u001b[0m invalid syntax\n"
     ]
    }
   ],
   "source": [
    "# indexing -  location of elements\n",
    "- positive index -> 0 -> from left side\n",
    "-  negative index ->-1 -> right side"
   ]
  },
  {
   "cell_type": "code",
   "execution_count": 57,
   "id": "ec4f40e9-193e-43c7-a284-d609b3dd4118",
   "metadata": {},
   "outputs": [
    {
     "data": {
      "text/plain": [
       "[12, 23.45, True, 'Raman']"
      ]
     },
     "execution_count": 57,
     "metadata": {},
     "output_type": "execute_result"
    }
   ],
   "source": [
    "l6"
   ]
  },
  {
   "cell_type": "code",
   "execution_count": 59,
   "id": "dfcc34b8-c630-43ec-9a82-78ea14a4b701",
   "metadata": {},
   "outputs": [
    {
     "ename": "NameError",
     "evalue": "name 'list_name' is not defined",
     "output_type": "error",
     "traceback": [
      "\u001b[1;31m---------------------------------------------------------------------------\u001b[0m",
      "\u001b[1;31mNameError\u001b[0m                                 Traceback (most recent call last)",
      "Cell \u001b[1;32mIn[59], line 1\u001b[0m\n\u001b[1;32m----> 1\u001b[0m list_name[location]\n",
      "\u001b[1;31mNameError\u001b[0m: name 'list_name' is not defined"
     ]
    }
   ],
   "source": [
    "list_name[location]"
   ]
  },
  {
   "cell_type": "code",
   "execution_count": null,
   "id": "4f2e8993-8838-4cc1-9613-b89bb9a88d7a",
   "metadata": {},
   "outputs": [],
   "source": [
    "l6[0]"
   ]
  },
  {
   "cell_type": "code",
   "execution_count": null,
   "id": "bf6b5a0a-1f3e-46a4-b21e-55fafa9e68dd",
   "metadata": {},
   "outputs": [],
   "source": [
    "l6[3]"
   ]
  },
  {
   "cell_type": "code",
   "execution_count": null,
   "id": "93e870e7-a46f-49d5-8038-63fe9b7162a0",
   "metadata": {},
   "outputs": [],
   "source": [
    "l6[4]"
   ]
  },
  {
   "cell_type": "code",
   "execution_count": null,
   "id": "e5c42415-39d6-4694-9ff5-8a4b48a822fa",
   "metadata": {
    "scrolled": true
   },
   "outputs": [],
   "source": [
    "l6[5]"
   ]
  },
  {
   "cell_type": "code",
   "execution_count": null,
   "id": "0fb99988-cc94-4e19-bb1f-ecbb2b95e28b",
   "metadata": {},
   "outputs": [],
   "source": [
    "l6"
   ]
  },
  {
   "cell_type": "code",
   "execution_count": 62,
   "id": "58cc19ef-f356-4c9d-8e76-aa95eb7e5627",
   "metadata": {},
   "outputs": [
    {
     "data": {
      "text/plain": [
       "'Raman'"
      ]
     },
     "execution_count": 62,
     "metadata": {},
     "output_type": "execute_result"
    }
   ],
   "source": [
    "l6[-1]"
   ]
  },
  {
   "cell_type": "code",
   "execution_count": 66,
   "id": "a596e63f-0c71-448b-bd96-bfe323d78e3e",
   "metadata": {},
   "outputs": [
    {
     "data": {
      "text/plain": [
       "12"
      ]
     },
     "execution_count": 66,
     "metadata": {},
     "output_type": "execute_result"
    }
   ],
   "source": [
    "l6[-4]"
   ]
  },
  {
   "cell_type": "code",
   "execution_count": 68,
   "id": "7d43be02-d9bf-4341-93a6-f964e2375128",
   "metadata": {},
   "outputs": [
    {
     "data": {
      "text/plain": [
       "4"
      ]
     },
     "execution_count": 68,
     "metadata": {},
     "output_type": "execute_result"
    }
   ],
   "source": [
    "len(l6)"
   ]
  },
  {
   "cell_type": "code",
   "execution_count": 70,
   "id": "d915bb51-ec4b-425a-9e4a-c4d5cb1a570a",
   "metadata": {},
   "outputs": [
    {
     "ename": "IndexError",
     "evalue": "list index out of range",
     "output_type": "error",
     "traceback": [
      "\u001b[1;31m---------------------------------------------------------------------------\u001b[0m",
      "\u001b[1;31mIndexError\u001b[0m                                Traceback (most recent call last)",
      "Cell \u001b[1;32mIn[70], line 1\u001b[0m\n\u001b[1;32m----> 1\u001b[0m l6[\u001b[38;5;241m-\u001b[39m\u001b[38;5;241m5\u001b[39m]\n",
      "\u001b[1;31mIndexError\u001b[0m: list index out of range"
     ]
    }
   ],
   "source": [
    "l6[-5]"
   ]
  },
  {
   "cell_type": "code",
   "execution_count": 72,
   "id": "bf607f95-93d8-47b0-ac62-73cc202f0e40",
   "metadata": {},
   "outputs": [
    {
     "data": {
      "text/plain": [
       "[23, 45, ['Rishubh', 'Sunita', True], 89.0]"
      ]
     },
     "execution_count": 72,
     "metadata": {},
     "output_type": "execute_result"
    }
   ],
   "source": [
    "l7"
   ]
  },
  {
   "cell_type": "code",
   "execution_count": 74,
   "id": "c03665a7-31f2-400b-9c11-42e2caa4bfde",
   "metadata": {},
   "outputs": [
    {
     "data": {
      "text/plain": [
       "23"
      ]
     },
     "execution_count": 74,
     "metadata": {},
     "output_type": "execute_result"
    }
   ],
   "source": [
    "l7[0]"
   ]
  },
  {
   "cell_type": "code",
   "execution_count": 76,
   "id": "14552f0f-2453-46c5-aa4c-a635d79b7276",
   "metadata": {},
   "outputs": [
    {
     "data": {
      "text/plain": [
       "45"
      ]
     },
     "execution_count": 76,
     "metadata": {},
     "output_type": "execute_result"
    }
   ],
   "source": [
    "l7[1]"
   ]
  },
  {
   "cell_type": "code",
   "execution_count": 78,
   "id": "c0322843-00dc-42c2-8cce-445b70030aeb",
   "metadata": {},
   "outputs": [
    {
     "data": {
      "text/plain": [
       "['Rishubh', 'Sunita', True]"
      ]
     },
     "execution_count": 78,
     "metadata": {},
     "output_type": "execute_result"
    }
   ],
   "source": [
    "l7[2]"
   ]
  },
  {
   "cell_type": "code",
   "execution_count": 80,
   "id": "59514251-213a-420d-a189-86032fc46fb3",
   "metadata": {},
   "outputs": [
    {
     "data": {
      "text/plain": [
       "'Rishubh'"
      ]
     },
     "execution_count": 80,
     "metadata": {},
     "output_type": "execute_result"
    }
   ],
   "source": [
    "l7[2][0]"
   ]
  },
  {
   "cell_type": "code",
   "execution_count": 82,
   "id": "9516051d-9b1a-4ae4-82e8-a5bad83f500e",
   "metadata": {},
   "outputs": [
    {
     "data": {
      "text/plain": [
       "'Rishubh'"
      ]
     },
     "execution_count": 82,
     "metadata": {},
     "output_type": "execute_result"
    }
   ],
   "source": [
    "l7[2][-3]"
   ]
  },
  {
   "cell_type": "code",
   "execution_count": 84,
   "id": "b5153510-4484-4712-9ea9-8534e4507026",
   "metadata": {},
   "outputs": [],
   "source": [
    "l8 = [12,34 ,['Data' , 'science' , [True , False]] , 56 ]"
   ]
  },
  {
   "cell_type": "code",
   "execution_count": 86,
   "id": "3ab62bd2-56b0-4693-b499-5357d5bb929a",
   "metadata": {},
   "outputs": [
    {
     "data": {
      "text/plain": [
       "True"
      ]
     },
     "execution_count": 86,
     "metadata": {},
     "output_type": "execute_result"
    }
   ],
   "source": [
    "l8[2][2][0]"
   ]
  },
  {
   "cell_type": "code",
   "execution_count": 88,
   "id": "a47633d1-7deb-4f6b-a65a-e5a9c811dbe2",
   "metadata": {},
   "outputs": [
    {
     "data": {
      "text/plain": [
       "[12, 23.45, True, 'Raman']"
      ]
     },
     "execution_count": 88,
     "metadata": {},
     "output_type": "execute_result"
    }
   ],
   "source": [
    "# slicing\n",
    "l6"
   ]
  },
  {
   "cell_type": "markdown",
   "id": "a2686e3c-5bd5-40e1-94d8-b312ce26f0b8",
   "metadata": {},
   "source": [
    "#### list_name[start : end : steps]"
   ]
  },
  {
   "cell_type": "code",
   "execution_count": 91,
   "id": "26726633-ec31-4c06-a32c-23659d68a148",
   "metadata": {},
   "outputs": [
    {
     "data": {
      "text/plain": [
       "[12, 23.45, True]"
      ]
     },
     "execution_count": 91,
     "metadata": {},
     "output_type": "execute_result"
    }
   ],
   "source": [
    "l6[0:3]"
   ]
  },
  {
   "cell_type": "code",
   "execution_count": 93,
   "id": "0555c093-cb9f-4d9d-9bb9-f0e0d4fbb7eb",
   "metadata": {},
   "outputs": [
    {
     "data": {
      "text/plain": [
       "[12, 23.45, True, 'Raman']"
      ]
     },
     "execution_count": 93,
     "metadata": {},
     "output_type": "execute_result"
    }
   ],
   "source": [
    "l6[0:78]"
   ]
  },
  {
   "cell_type": "code",
   "execution_count": 95,
   "id": "3dd6523f-8545-4812-a63f-39b5098fb61c",
   "metadata": {},
   "outputs": [
    {
     "data": {
      "text/plain": [
       "[12, 23.45, True, 'Raman']"
      ]
     },
     "execution_count": 95,
     "metadata": {},
     "output_type": "execute_result"
    }
   ],
   "source": [
    "l6[0:3456789]"
   ]
  },
  {
   "cell_type": "code",
   "execution_count": 97,
   "id": "f4b68742-9f14-4e7f-9ecf-92d43fb9e8be",
   "metadata": {},
   "outputs": [
    {
     "data": {
      "text/plain": [
       "[12, 23.45, True, 'Raman']"
      ]
     },
     "execution_count": 97,
     "metadata": {},
     "output_type": "execute_result"
    }
   ],
   "source": [
    "l6[:8]"
   ]
  },
  {
   "cell_type": "code",
   "execution_count": 99,
   "id": "5e1acb86-bd03-4d56-8625-19cb77ef6bb1",
   "metadata": {},
   "outputs": [
    {
     "data": {
      "text/plain": [
       "[12, 23.45, True, 'Raman']"
      ]
     },
     "execution_count": 99,
     "metadata": {},
     "output_type": "execute_result"
    }
   ],
   "source": [
    "l6[:]"
   ]
  },
  {
   "cell_type": "code",
   "execution_count": 101,
   "id": "be8f5a21-6d2d-4bc5-b096-1318608d9c70",
   "metadata": {},
   "outputs": [
    {
     "data": {
      "text/plain": [
       "[12, 23.45, True, 'Raman']"
      ]
     },
     "execution_count": 101,
     "metadata": {},
     "output_type": "execute_result"
    }
   ],
   "source": [
    "l6[0:8:1]"
   ]
  },
  {
   "cell_type": "code",
   "execution_count": 103,
   "id": "5a1fde24-2a03-47d3-a6e9-b7a96bd298d8",
   "metadata": {},
   "outputs": [
    {
     "data": {
      "text/plain": [
       "[12, 23.45, True, 'Raman']"
      ]
     },
     "execution_count": 103,
     "metadata": {},
     "output_type": "execute_result"
    }
   ],
   "source": [
    "l6[::1]"
   ]
  },
  {
   "cell_type": "code",
   "execution_count": 105,
   "id": "61ab9c35-c243-493d-8dd3-9e0a8b69ef39",
   "metadata": {},
   "outputs": [
    {
     "name": "stdout",
     "output_type": "stream",
     "text": [
      "[12, 23.45, True, 'Raman']\n",
      "[12, 23.45, True, 'Raman']\n",
      "[12, 23.45, True, 'Raman']\n",
      "[12, 23.45, True, 'Raman']\n",
      "[12, 23.45, True, 'Raman']\n"
     ]
    }
   ],
   "source": [
    "print(l6[::])\n",
    "print(l6[:])\n",
    "print(l6[::1])\n",
    "print(l6[:4])\n",
    "print(l6[0:57698985])"
   ]
  },
  {
   "cell_type": "code",
   "execution_count": 107,
   "id": "b5f04c49-538e-47de-ac31-1f1f0e8e2efe",
   "metadata": {},
   "outputs": [
    {
     "data": {
      "text/plain": [
       "[12, True]"
      ]
     },
     "execution_count": 107,
     "metadata": {},
     "output_type": "execute_result"
    }
   ],
   "source": [
    "l6[::2]"
   ]
  },
  {
   "cell_type": "code",
   "execution_count": 109,
   "id": "790ca35b-1636-42a1-9987-8789e6bc30a7",
   "metadata": {},
   "outputs": [
    {
     "data": {
      "text/plain": [
       "['Raman', True, 23.45, 12]"
      ]
     },
     "execution_count": 109,
     "metadata": {},
     "output_type": "execute_result"
    }
   ],
   "source": [
    "l6[4::-1]"
   ]
  },
  {
   "cell_type": "code",
   "execution_count": 111,
   "id": "f74751bb-f7d3-45a5-a152-eedf0c00ec3a",
   "metadata": {},
   "outputs": [
    {
     "data": {
      "text/plain": [
       "['Raman', True, 23.45, 12]"
      ]
     },
     "execution_count": 111,
     "metadata": {},
     "output_type": "execute_result"
    }
   ],
   "source": [
    "l6[::-1]"
   ]
  },
  {
   "cell_type": "code",
   "execution_count": 113,
   "id": "6a0afe2c-22bc-4258-a938-31cf2748c34a",
   "metadata": {},
   "outputs": [
    {
     "data": {
      "text/plain": [
       "[12, 23.45, True, 'Raman']"
      ]
     },
     "execution_count": 113,
     "metadata": {},
     "output_type": "execute_result"
    }
   ],
   "source": [
    "l6"
   ]
  },
  {
   "cell_type": "code",
   "execution_count": 115,
   "id": "7ac52cf7-2005-4886-a524-a12192962678",
   "metadata": {},
   "outputs": [
    {
     "data": {
      "text/plain": [
       "[]"
      ]
     },
     "execution_count": 115,
     "metadata": {},
     "output_type": "execute_result"
    }
   ],
   "source": [
    "l6[-1:-3]"
   ]
  },
  {
   "cell_type": "code",
   "execution_count": 117,
   "id": "9ee8a699-9147-468d-9a23-fd0cc63ca08c",
   "metadata": {},
   "outputs": [
    {
     "data": {
      "text/plain": [
       "['Raman', True]"
      ]
     },
     "execution_count": 117,
     "metadata": {},
     "output_type": "execute_result"
    }
   ],
   "source": [
    "l6[-1:-3:-1]"
   ]
  },
  {
   "cell_type": "code",
   "execution_count": 119,
   "id": "e276e25e-fd2c-4f5a-9e1c-192494f47971",
   "metadata": {},
   "outputs": [
    {
     "data": {
      "text/plain": [
       "[12, 23.45, True, 'Raman']"
      ]
     },
     "execution_count": 119,
     "metadata": {},
     "output_type": "execute_result"
    }
   ],
   "source": [
    "l6"
   ]
  },
  {
   "cell_type": "code",
   "execution_count": 121,
   "id": "14cacd02-a3a9-4931-8f9f-48fa6a35b7dd",
   "metadata": {},
   "outputs": [
    {
     "data": {
      "text/plain": [
       "[12, 23.45, True]"
      ]
     },
     "execution_count": 121,
     "metadata": {},
     "output_type": "execute_result"
    }
   ],
   "source": [
    "l6[-4:-1]"
   ]
  },
  {
   "cell_type": "code",
   "execution_count": 123,
   "id": "0f222446-4b04-40f0-a7c1-b6305035d1ec",
   "metadata": {
    "scrolled": true
   },
   "outputs": [
    {
     "data": {
      "text/plain": [
       "['Raman', True, 23.45, 12]"
      ]
     },
     "execution_count": 123,
     "metadata": {},
     "output_type": "execute_result"
    }
   ],
   "source": [
    "l6[4::-1]"
   ]
  },
  {
   "cell_type": "code",
   "execution_count": 125,
   "id": "c3b5ba73-1713-4a57-a2bf-8ed9bc6424a3",
   "metadata": {},
   "outputs": [
    {
     "data": {
      "text/plain": [
       "[12, 23.45, True, 'Raman']"
      ]
     },
     "execution_count": 125,
     "metadata": {},
     "output_type": "execute_result"
    }
   ],
   "source": [
    "l6"
   ]
  },
  {
   "cell_type": "code",
   "execution_count": 127,
   "id": "55ead7a4-ceae-44c0-a24c-7623d27a7aaf",
   "metadata": {},
   "outputs": [
    {
     "data": {
      "text/plain": [
       "[True, 'Raman']"
      ]
     },
     "execution_count": 127,
     "metadata": {},
     "output_type": "execute_result"
    }
   ],
   "source": [
    "l6[2:]"
   ]
  },
  {
   "cell_type": "code",
   "execution_count": 129,
   "id": "fbd2d672-ccd8-43ce-8118-1f35e4f34d7f",
   "metadata": {},
   "outputs": [
    {
     "data": {
      "text/plain": [
       "[23.45, True, 'Raman']"
      ]
     },
     "execution_count": 129,
     "metadata": {},
     "output_type": "execute_result"
    }
   ],
   "source": [
    "l6[1:9]"
   ]
  },
  {
   "cell_type": "code",
   "execution_count": 131,
   "id": "6300c62b-6163-4abe-9031-c63fd99f1a0a",
   "metadata": {},
   "outputs": [
    {
     "data": {
      "text/plain": [
       "[12, 23.45, True, 'Raman']"
      ]
     },
     "execution_count": 131,
     "metadata": {},
     "output_type": "execute_result"
    }
   ],
   "source": [
    "l6"
   ]
  },
  {
   "cell_type": "code",
   "execution_count": 137,
   "id": "46db43d0-95f0-4a67-9e2d-e86555705c23",
   "metadata": {},
   "outputs": [
    {
     "data": {
      "text/plain": [
       "['Raman', True]"
      ]
     },
     "execution_count": 137,
     "metadata": {},
     "output_type": "execute_result"
    }
   ],
   "source": [
    "l6[9:1:-1]"
   ]
  },
  {
   "cell_type": "code",
   "execution_count": 139,
   "id": "d0bd353f-5cec-42f1-bf42-37da2d56cf67",
   "metadata": {},
   "outputs": [
    {
     "data": {
      "text/plain": [
       "['Raman', True, 23.45, 12]"
      ]
     },
     "execution_count": 139,
     "metadata": {},
     "output_type": "execute_result"
    }
   ],
   "source": [
    "l6[9::-1]"
   ]
  },
  {
   "cell_type": "code",
   "execution_count": 145,
   "id": "02302342-7146-4789-a875-ec26b6cd81ed",
   "metadata": {
    "scrolled": true
   },
   "outputs": [
    {
     "data": {
      "text/plain": [
       "[['Rishubh', 'Sunita', True], 89.0]"
      ]
     },
     "execution_count": 145,
     "metadata": {},
     "output_type": "execute_result"
    }
   ],
   "source": [
    "l7[2:4]"
   ]
  },
  {
   "cell_type": "code",
   "execution_count": 155,
   "id": "19aeb7f3-bd76-4d86-9441-fe6c401ee29f",
   "metadata": {},
   "outputs": [
    {
     "data": {
      "text/plain": [
       "[23, 45, ['Rishubh', 'Sunita', True], 89.0]"
      ]
     },
     "execution_count": 155,
     "metadata": {},
     "output_type": "execute_result"
    }
   ],
   "source": [
    "l7"
   ]
  },
  {
   "cell_type": "code",
   "execution_count": 159,
   "id": "03cad84a-fc73-4c4d-8adb-4c6ed41de46d",
   "metadata": {},
   "outputs": [
    {
     "data": {
      "text/plain": [
       "['Rishubh', 'Sunita']"
      ]
     },
     "execution_count": 159,
     "metadata": {},
     "output_type": "execute_result"
    }
   ],
   "source": [
    "l7[2][0:2]"
   ]
  },
  {
   "cell_type": "code",
   "execution_count": 161,
   "id": "246d86db-bf1a-4172-8617-bb0227812a0d",
   "metadata": {},
   "outputs": [
    {
     "data": {
      "text/plain": [
       "[23, 45, ['Rishubh', 'Sunita', True], 89.0]"
      ]
     },
     "execution_count": 161,
     "metadata": {},
     "output_type": "execute_result"
    }
   ],
   "source": [
    "l7"
   ]
  },
  {
   "cell_type": "code",
   "execution_count": 163,
   "id": "73bc3464-45b3-4850-a28a-6264a2bcfb85",
   "metadata": {},
   "outputs": [
    {
     "data": {
      "text/plain": [
       "['Rishubh', 'Sunita']"
      ]
     },
     "execution_count": 163,
     "metadata": {},
     "output_type": "execute_result"
    }
   ],
   "source": [
    "l7[-2][-3:-1]"
   ]
  },
  {
   "cell_type": "markdown",
   "id": "57299a22-d2f7-4130-b1c8-59c908ca7784",
   "metadata": {},
   "source": [
    "#### Add \n",
    "- append\n",
    "- extend\n",
    "- insert"
   ]
  },
  {
   "cell_type": "code",
   "execution_count": 166,
   "id": "9e4469ba-95ec-4019-9ca8-239b5af568d4",
   "metadata": {},
   "outputs": [
    {
     "data": {
      "text/plain": [
       "[12, 23.45, True, 'Raman']"
      ]
     },
     "execution_count": 166,
     "metadata": {},
     "output_type": "execute_result"
    }
   ],
   "source": [
    "l6"
   ]
  },
  {
   "cell_type": "code",
   "execution_count": 168,
   "id": "dbc91aca-2283-4d90-a2f1-326dcbe44159",
   "metadata": {},
   "outputs": [],
   "source": [
    "l6.append('Python')"
   ]
  },
  {
   "cell_type": "code",
   "execution_count": 170,
   "id": "6290eb00-b29e-4e2a-bc88-abdd3ff7027e",
   "metadata": {},
   "outputs": [
    {
     "data": {
      "text/plain": [
       "[12, 23.45, True, 'Raman', 'Python']"
      ]
     },
     "execution_count": 170,
     "metadata": {},
     "output_type": "execute_result"
    }
   ],
   "source": [
    "l6"
   ]
  },
  {
   "cell_type": "code",
   "execution_count": 205,
   "id": "14d2bc5a-7c3f-41c2-b30c-cadbf8555906",
   "metadata": {},
   "outputs": [],
   "source": [
    "l10 = ['Machine' , 'Learning']"
   ]
  },
  {
   "cell_type": "code",
   "execution_count": 191,
   "id": "4c50e559-eabd-45b9-b441-a032a34a5aef",
   "metadata": {},
   "outputs": [
    {
     "data": {
      "text/plain": [
       "[12, 23.45, True, 'Raman', 'Python']"
      ]
     },
     "execution_count": 191,
     "metadata": {},
     "output_type": "execute_result"
    }
   ],
   "source": [
    "l6"
   ]
  },
  {
   "cell_type": "code",
   "execution_count": 197,
   "id": "9944afc6-f083-4f11-b306-c50261c5cfc4",
   "metadata": {},
   "outputs": [],
   "source": [
    "l6.append( ['Machine' , 'Learning'])"
   ]
  },
  {
   "cell_type": "code",
   "execution_count": 203,
   "id": "eeb238f8-aa77-4afc-bccc-70e3e098ae90",
   "metadata": {},
   "outputs": [
    {
     "data": {
      "text/plain": [
       "[12, 23.45, True, 'Raman', 'Python', ['Machine', 'Learning']]"
      ]
     },
     "execution_count": 203,
     "metadata": {},
     "output_type": "execute_result"
    }
   ],
   "source": [
    "l6"
   ]
  },
  {
   "cell_type": "code",
   "execution_count": 207,
   "id": "0cce666b-ae0f-4b6c-9261-c08dbe7aa7ab",
   "metadata": {},
   "outputs": [],
   "source": [
    "l6.extend(l10)"
   ]
  },
  {
   "cell_type": "code",
   "execution_count": 211,
   "id": "1dc37154-6e37-46e1-ab98-8e541cb9dd13",
   "metadata": {},
   "outputs": [
    {
     "name": "stdout",
     "output_type": "stream",
     "text": [
      "[12, 23.45, True, 'Raman', 'Python', ['Machine', 'Learning'], 'Machine', 'Learning']\n"
     ]
    }
   ],
   "source": [
    "print(l6)"
   ]
  },
  {
   "cell_type": "code",
   "execution_count": 213,
   "id": "e6ab4760-226e-483d-ac2c-6d8e78eb02cd",
   "metadata": {},
   "outputs": [],
   "source": [
    "l6.insert(0 ,'Varsha')"
   ]
  },
  {
   "cell_type": "code",
   "execution_count": 217,
   "id": "9f064ba7-e252-433d-b061-30b39fbe1ee7",
   "metadata": {},
   "outputs": [
    {
     "name": "stdout",
     "output_type": "stream",
     "text": [
      "['Varsha', 12, 23.45, True, 'Raman', 'Python', ['Machine', 'Learning'], 'Machine', 'Learning']\n"
     ]
    }
   ],
   "source": [
    "print(l6)"
   ]
  },
  {
   "cell_type": "code",
   "execution_count": null,
   "id": "5070895a-8fc5-4a53-ad94-c9dfb477ff53",
   "metadata": {},
   "outputs": [],
   "source": [
    "# Delete observations\n",
    "- remove\n",
    "- del \n",
    "- clear()"
   ]
  },
  {
   "cell_type": "code",
   "execution_count": 221,
   "id": "3753d4c5-1fb0-479c-a6f1-0d40f78e8485",
   "metadata": {},
   "outputs": [],
   "source": [
    "l6.remove('Varsha')"
   ]
  },
  {
   "cell_type": "code",
   "execution_count": 225,
   "id": "7cd52d00-13a1-4a09-8b54-9deabccc7e28",
   "metadata": {},
   "outputs": [],
   "source": [
    "l6.remove(['Machine', 'Learning'])"
   ]
  },
  {
   "cell_type": "code",
   "execution_count": 227,
   "id": "7d3a7e72-4454-4516-b4b4-a8dc4bb7f465",
   "metadata": {},
   "outputs": [
    {
     "data": {
      "text/plain": [
       "[12, 23.45, True, 'Raman', 'Python', 'Machine', 'Learning']"
      ]
     },
     "execution_count": 227,
     "metadata": {},
     "output_type": "execute_result"
    }
   ],
   "source": [
    "l6"
   ]
  },
  {
   "cell_type": "code",
   "execution_count": 229,
   "id": "f5e7bfa8-d357-4077-94f2-ca839eab3545",
   "metadata": {},
   "outputs": [],
   "source": [
    "del l6[3]"
   ]
  },
  {
   "cell_type": "code",
   "execution_count": 231,
   "id": "6a7bb0e0-283b-41cb-a998-067c96cef96d",
   "metadata": {},
   "outputs": [
    {
     "data": {
      "text/plain": [
       "[12, 23.45, True, 'Python', 'Machine', 'Learning']"
      ]
     },
     "execution_count": 231,
     "metadata": {},
     "output_type": "execute_result"
    }
   ],
   "source": [
    "l6"
   ]
  },
  {
   "cell_type": "code",
   "execution_count": 233,
   "id": "68f8ff60-dfce-4742-ba1a-2b824ac85f50",
   "metadata": {},
   "outputs": [],
   "source": [
    "l6.clear()"
   ]
  },
  {
   "cell_type": "code",
   "execution_count": 235,
   "id": "bacefe30-855c-4228-b5ce-3368dba756e0",
   "metadata": {},
   "outputs": [
    {
     "data": {
      "text/plain": [
       "[]"
      ]
     },
     "execution_count": 235,
     "metadata": {},
     "output_type": "execute_result"
    }
   ],
   "source": [
    "l6"
   ]
  },
  {
   "cell_type": "code",
   "execution_count": 237,
   "id": "177ec0da-de3e-4ae3-ae0d-83677a074a4a",
   "metadata": {},
   "outputs": [],
   "source": [
    "del l6"
   ]
  },
  {
   "cell_type": "code",
   "execution_count": 239,
   "id": "d1a7c107-d92f-453c-b374-07242e86c48e",
   "metadata": {},
   "outputs": [
    {
     "ename": "NameError",
     "evalue": "name 'l6' is not defined",
     "output_type": "error",
     "traceback": [
      "\u001b[1;31m---------------------------------------------------------------------------\u001b[0m",
      "\u001b[1;31mNameError\u001b[0m                                 Traceback (most recent call last)",
      "Cell \u001b[1;32mIn[239], line 1\u001b[0m\n\u001b[1;32m----> 1\u001b[0m l6\n",
      "\u001b[1;31mNameError\u001b[0m: name 'l6' is not defined"
     ]
    }
   ],
   "source": [
    "l6"
   ]
  },
  {
   "cell_type": "code",
   "execution_count": null,
   "id": "3df64ccc-33c5-4352-a8ae-c3baa1fe00b5",
   "metadata": {},
   "outputs": [],
   "source": []
  }
 ],
 "metadata": {
  "kernelspec": {
   "display_name": "Python [conda env:base] *",
   "language": "python",
   "name": "conda-base-py"
  },
  "language_info": {
   "codemirror_mode": {
    "name": "ipython",
    "version": 3
   },
   "file_extension": ".py",
   "mimetype": "text/x-python",
   "name": "python",
   "nbconvert_exporter": "python",
   "pygments_lexer": "ipython3",
   "version": "3.12.7"
  }
 },
 "nbformat": 4,
 "nbformat_minor": 5
}
